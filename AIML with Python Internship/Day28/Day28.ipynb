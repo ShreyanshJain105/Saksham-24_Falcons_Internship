{
 "cells": [
  {
   "cell_type": "code",
   "execution_count": 15,
   "id": "17d5cf4f-09a3-4a7c-8188-67906ef85dd2",
   "metadata": {},
   "outputs": [],
   "source": [
    "import numpy as np\n",
    "import pandas as pd\n",
    "from sklearn.datasets import make_classification"
   ]
  },
  {
   "cell_type": "code",
   "execution_count": 17,
   "id": "6ca2bee1-b942-45c7-a71e-bf39c37cd81c",
   "metadata": {},
   "outputs": [],
   "source": [
    "X,y = make_classification(n_features=5, n_redundant=0, n_informative=5,n_clusters_per_class=1)"
   ]
  },
  {
   "cell_type": "code",
   "execution_count": 19,
   "id": "21608f8e-307d-4387-9055-f61fa8d3f349",
   "metadata": {},
   "outputs": [
    {
     "name": "stdout",
     "output_type": "stream",
     "text": [
      "(100, 6)\n"
     ]
    },
    {
     "data": {
      "text/html": [
       "<div>\n",
       "<style scoped>\n",
       "    .dataframe tbody tr th:only-of-type {\n",
       "        vertical-align: middle;\n",
       "    }\n",
       "\n",
       "    .dataframe tbody tr th {\n",
       "        vertical-align: top;\n",
       "    }\n",
       "\n",
       "    .dataframe thead th {\n",
       "        text-align: right;\n",
       "    }\n",
       "</style>\n",
       "<table border=\"1\" class=\"dataframe\">\n",
       "  <thead>\n",
       "    <tr style=\"text-align: right;\">\n",
       "      <th></th>\n",
       "      <th>col1</th>\n",
       "      <th>col2</th>\n",
       "      <th>col3</th>\n",
       "      <th>col4</th>\n",
       "      <th>col5</th>\n",
       "      <th>target</th>\n",
       "    </tr>\n",
       "  </thead>\n",
       "  <tbody>\n",
       "    <tr>\n",
       "      <th>0</th>\n",
       "      <td>3.216057</td>\n",
       "      <td>1.500715</td>\n",
       "      <td>0.948112</td>\n",
       "      <td>2.409446</td>\n",
       "      <td>4.636850</td>\n",
       "      <td>1</td>\n",
       "    </tr>\n",
       "    <tr>\n",
       "      <th>1</th>\n",
       "      <td>1.745650</td>\n",
       "      <td>2.633857</td>\n",
       "      <td>0.092595</td>\n",
       "      <td>2.822556</td>\n",
       "      <td>0.210044</td>\n",
       "      <td>1</td>\n",
       "    </tr>\n",
       "    <tr>\n",
       "      <th>2</th>\n",
       "      <td>0.579041</td>\n",
       "      <td>2.683149</td>\n",
       "      <td>-0.461202</td>\n",
       "      <td>1.421162</td>\n",
       "      <td>-0.879477</td>\n",
       "      <td>1</td>\n",
       "    </tr>\n",
       "    <tr>\n",
       "      <th>3</th>\n",
       "      <td>-0.176265</td>\n",
       "      <td>-0.222284</td>\n",
       "      <td>1.249123</td>\n",
       "      <td>-0.704912</td>\n",
       "      <td>-0.363880</td>\n",
       "      <td>1</td>\n",
       "    </tr>\n",
       "    <tr>\n",
       "      <th>4</th>\n",
       "      <td>0.725196</td>\n",
       "      <td>3.721853</td>\n",
       "      <td>-1.197663</td>\n",
       "      <td>0.697670</td>\n",
       "      <td>-1.565441</td>\n",
       "      <td>0</td>\n",
       "    </tr>\n",
       "  </tbody>\n",
       "</table>\n",
       "</div>"
      ],
      "text/plain": [
       "       col1      col2      col3      col4      col5  target\n",
       "0  3.216057  1.500715  0.948112  2.409446  4.636850       1\n",
       "1  1.745650  2.633857  0.092595  2.822556  0.210044       1\n",
       "2  0.579041  2.683149 -0.461202  1.421162 -0.879477       1\n",
       "3 -0.176265 -0.222284  1.249123 -0.704912 -0.363880       1\n",
       "4  0.725196  3.721853 -1.197663  0.697670 -1.565441       0"
      ]
     },
     "execution_count": 19,
     "metadata": {},
     "output_type": "execute_result"
    }
   ],
   "source": [
    "df = pd.DataFrame(X,columns=['col1','col2','col3','col4','col5'])\n",
    "df['target'] = y\n",
    "print(df.shape)\n",
    "df.head()"
   ]
  },
  {
   "cell_type": "code",
   "execution_count": 21,
   "id": "d3ec62c7-805e-4f65-b7a1-40f35a596041",
   "metadata": {},
   "outputs": [],
   "source": [
    "# function for row sampling\n",
    "\n",
    "def sample_rows(df,percent):\n",
    "  return df.sample(int(percent*df.shape[0]),replace=True)"
   ]
  },
  {
   "cell_type": "code",
   "execution_count": 23,
   "id": "e2ebcdfc-6342-4f73-a659-859d952805e7",
   "metadata": {},
   "outputs": [],
   "source": [
    "# function for feature sampling\n",
    "def sample_features(df,percent):\n",
    "  cols = random.sample(df.columns.tolist()[:-1],int(percent*(df.shape[1]-1)))\n",
    "  new_df = df[cols]\n",
    "  new_df['target'] = df['target']\n",
    "  return new_df"
   ]
  },
  {
   "cell_type": "code",
   "execution_count": 25,
   "id": "5c772b8c-9b65-42fb-8edb-311f2c6d9580",
   "metadata": {},
   "outputs": [],
   "source": [
    "# function for combined sampling\n",
    "\n",
    "def combined_sampling(df,row_percent,col_percent):\n",
    "  new_df = sample_rows(df,row_percent)\n",
    "  return sample_features(new_df,col_percent)"
   ]
  },
  {
   "cell_type": "code",
   "execution_count": 27,
   "id": "b60da38d-6371-4645-8474-a94ec5b72e5a",
   "metadata": {},
   "outputs": [
    {
     "ename": "NameError",
     "evalue": "name 'random' is not defined",
     "output_type": "error",
     "traceback": [
      "\u001b[1;31m---------------------------------------------------------------------------\u001b[0m",
      "\u001b[1;31mNameError\u001b[0m                                 Traceback (most recent call last)",
      "Cell \u001b[1;32mIn[27], line 1\u001b[0m\n\u001b[1;32m----> 1\u001b[0m df1 \u001b[38;5;241m=\u001b[39m combined_sampling(df,\u001b[38;5;241m0.5\u001b[39m,\u001b[38;5;241m0.5\u001b[39m)\n",
      "Cell \u001b[1;32mIn[25], line 5\u001b[0m, in \u001b[0;36mcombined_sampling\u001b[1;34m(df, row_percent, col_percent)\u001b[0m\n\u001b[0;32m      3\u001b[0m \u001b[38;5;28;01mdef\u001b[39;00m \u001b[38;5;21mcombined_sampling\u001b[39m(df,row_percent,col_percent):\n\u001b[0;32m      4\u001b[0m   new_df \u001b[38;5;241m=\u001b[39m sample_rows(df,row_percent)\n\u001b[1;32m----> 5\u001b[0m   \u001b[38;5;28;01mreturn\u001b[39;00m sample_features(new_df,col_percent)\n",
      "Cell \u001b[1;32mIn[23], line 3\u001b[0m, in \u001b[0;36msample_features\u001b[1;34m(df, percent)\u001b[0m\n\u001b[0;32m      2\u001b[0m \u001b[38;5;28;01mdef\u001b[39;00m \u001b[38;5;21msample_features\u001b[39m(df,percent):\n\u001b[1;32m----> 3\u001b[0m   cols \u001b[38;5;241m=\u001b[39m random\u001b[38;5;241m.\u001b[39msample(df\u001b[38;5;241m.\u001b[39mcolumns\u001b[38;5;241m.\u001b[39mtolist()[:\u001b[38;5;241m-\u001b[39m\u001b[38;5;241m1\u001b[39m],\u001b[38;5;28mint\u001b[39m(percent\u001b[38;5;241m*\u001b[39m(df\u001b[38;5;241m.\u001b[39mshape[\u001b[38;5;241m1\u001b[39m]\u001b[38;5;241m-\u001b[39m\u001b[38;5;241m1\u001b[39m)))\n\u001b[0;32m      4\u001b[0m   new_df \u001b[38;5;241m=\u001b[39m df[cols]\n\u001b[0;32m      5\u001b[0m   new_df[\u001b[38;5;124m'\u001b[39m\u001b[38;5;124mtarget\u001b[39m\u001b[38;5;124m'\u001b[39m] \u001b[38;5;241m=\u001b[39m df[\u001b[38;5;124m'\u001b[39m\u001b[38;5;124mtarget\u001b[39m\u001b[38;5;124m'\u001b[39m]\n",
      "\u001b[1;31mNameError\u001b[0m: name 'random' is not defined"
     ]
    }
   ],
   "source": [
    "df1 = combined_sampling(df,0.5,0.5)"
   ]
  },
  {
   "cell_type": "code",
   "execution_count": 29,
   "id": "1e3be659-e309-46f4-8b2f-12f811434d88",
   "metadata": {},
   "outputs": [
    {
     "ename": "NameError",
     "evalue": "name 'random' is not defined",
     "output_type": "error",
     "traceback": [
      "\u001b[1;31m---------------------------------------------------------------------------\u001b[0m",
      "\u001b[1;31mNameError\u001b[0m                                 Traceback (most recent call last)",
      "Cell \u001b[1;32mIn[29], line 1\u001b[0m\n\u001b[1;32m----> 1\u001b[0m df2 \u001b[38;5;241m=\u001b[39m combined_sampling(df,\u001b[38;5;241m0.5\u001b[39m,\u001b[38;5;241m0.5\u001b[39m)\n",
      "Cell \u001b[1;32mIn[25], line 5\u001b[0m, in \u001b[0;36mcombined_sampling\u001b[1;34m(df, row_percent, col_percent)\u001b[0m\n\u001b[0;32m      3\u001b[0m \u001b[38;5;28;01mdef\u001b[39;00m \u001b[38;5;21mcombined_sampling\u001b[39m(df,row_percent,col_percent):\n\u001b[0;32m      4\u001b[0m   new_df \u001b[38;5;241m=\u001b[39m sample_rows(df,row_percent)\n\u001b[1;32m----> 5\u001b[0m   \u001b[38;5;28;01mreturn\u001b[39;00m sample_features(new_df,col_percent)\n",
      "Cell \u001b[1;32mIn[23], line 3\u001b[0m, in \u001b[0;36msample_features\u001b[1;34m(df, percent)\u001b[0m\n\u001b[0;32m      2\u001b[0m \u001b[38;5;28;01mdef\u001b[39;00m \u001b[38;5;21msample_features\u001b[39m(df,percent):\n\u001b[1;32m----> 3\u001b[0m   cols \u001b[38;5;241m=\u001b[39m random\u001b[38;5;241m.\u001b[39msample(df\u001b[38;5;241m.\u001b[39mcolumns\u001b[38;5;241m.\u001b[39mtolist()[:\u001b[38;5;241m-\u001b[39m\u001b[38;5;241m1\u001b[39m],\u001b[38;5;28mint\u001b[39m(percent\u001b[38;5;241m*\u001b[39m(df\u001b[38;5;241m.\u001b[39mshape[\u001b[38;5;241m1\u001b[39m]\u001b[38;5;241m-\u001b[39m\u001b[38;5;241m1\u001b[39m)))\n\u001b[0;32m      4\u001b[0m   new_df \u001b[38;5;241m=\u001b[39m df[cols]\n\u001b[0;32m      5\u001b[0m   new_df[\u001b[38;5;124m'\u001b[39m\u001b[38;5;124mtarget\u001b[39m\u001b[38;5;124m'\u001b[39m] \u001b[38;5;241m=\u001b[39m df[\u001b[38;5;124m'\u001b[39m\u001b[38;5;124mtarget\u001b[39m\u001b[38;5;124m'\u001b[39m]\n",
      "\u001b[1;31mNameError\u001b[0m: name 'random' is not defined"
     ]
    }
   ],
   "source": [
    "df2 = combined_sampling(df,0.5,0.5)"
   ]
  },
  {
   "cell_type": "code",
   "execution_count": 31,
   "id": "b2dd5636-eab1-4f4a-a124-2c7e52b2d1b6",
   "metadata": {},
   "outputs": [
    {
     "ename": "NameError",
     "evalue": "name 'random' is not defined",
     "output_type": "error",
     "traceback": [
      "\u001b[1;31m---------------------------------------------------------------------------\u001b[0m",
      "\u001b[1;31mNameError\u001b[0m                                 Traceback (most recent call last)",
      "Cell \u001b[1;32mIn[31], line 1\u001b[0m\n\u001b[1;32m----> 1\u001b[0m df3 \u001b[38;5;241m=\u001b[39m combined_sampling(df,\u001b[38;5;241m0.5\u001b[39m,\u001b[38;5;241m0.5\u001b[39m)\n",
      "Cell \u001b[1;32mIn[25], line 5\u001b[0m, in \u001b[0;36mcombined_sampling\u001b[1;34m(df, row_percent, col_percent)\u001b[0m\n\u001b[0;32m      3\u001b[0m \u001b[38;5;28;01mdef\u001b[39;00m \u001b[38;5;21mcombined_sampling\u001b[39m(df,row_percent,col_percent):\n\u001b[0;32m      4\u001b[0m   new_df \u001b[38;5;241m=\u001b[39m sample_rows(df,row_percent)\n\u001b[1;32m----> 5\u001b[0m   \u001b[38;5;28;01mreturn\u001b[39;00m sample_features(new_df,col_percent)\n",
      "Cell \u001b[1;32mIn[23], line 3\u001b[0m, in \u001b[0;36msample_features\u001b[1;34m(df, percent)\u001b[0m\n\u001b[0;32m      2\u001b[0m \u001b[38;5;28;01mdef\u001b[39;00m \u001b[38;5;21msample_features\u001b[39m(df,percent):\n\u001b[1;32m----> 3\u001b[0m   cols \u001b[38;5;241m=\u001b[39m random\u001b[38;5;241m.\u001b[39msample(df\u001b[38;5;241m.\u001b[39mcolumns\u001b[38;5;241m.\u001b[39mtolist()[:\u001b[38;5;241m-\u001b[39m\u001b[38;5;241m1\u001b[39m],\u001b[38;5;28mint\u001b[39m(percent\u001b[38;5;241m*\u001b[39m(df\u001b[38;5;241m.\u001b[39mshape[\u001b[38;5;241m1\u001b[39m]\u001b[38;5;241m-\u001b[39m\u001b[38;5;241m1\u001b[39m)))\n\u001b[0;32m      4\u001b[0m   new_df \u001b[38;5;241m=\u001b[39m df[cols]\n\u001b[0;32m      5\u001b[0m   new_df[\u001b[38;5;124m'\u001b[39m\u001b[38;5;124mtarget\u001b[39m\u001b[38;5;124m'\u001b[39m] \u001b[38;5;241m=\u001b[39m df[\u001b[38;5;124m'\u001b[39m\u001b[38;5;124mtarget\u001b[39m\u001b[38;5;124m'\u001b[39m]\n",
      "\u001b[1;31mNameError\u001b[0m: name 'random' is not defined"
     ]
    }
   ],
   "source": [
    "df3 = combined_sampling(df,0.5,0.5)"
   ]
  },
  {
   "cell_type": "code",
   "execution_count": 33,
   "id": "586b1a1f-f333-43d5-b630-d9bb7bf91fb1",
   "metadata": {},
   "outputs": [
    {
     "ename": "NameError",
     "evalue": "name 'df1' is not defined",
     "output_type": "error",
     "traceback": [
      "\u001b[1;31m---------------------------------------------------------------------------\u001b[0m",
      "\u001b[1;31mNameError\u001b[0m                                 Traceback (most recent call last)",
      "Cell \u001b[1;32mIn[33], line 1\u001b[0m\n\u001b[1;32m----> 1\u001b[0m \u001b[38;5;28mprint\u001b[39m(df1\u001b[38;5;241m.\u001b[39mcolumns)\n\u001b[0;32m      2\u001b[0m \u001b[38;5;28mprint\u001b[39m(df2\u001b[38;5;241m.\u001b[39mcolumns)\n\u001b[0;32m      3\u001b[0m \u001b[38;5;28mprint\u001b[39m(df3\u001b[38;5;241m.\u001b[39mcolumns)\n",
      "\u001b[1;31mNameError\u001b[0m: name 'df1' is not defined"
     ]
    }
   ],
   "source": [
    "print(df1.columns)\n",
    "print(df2.columns)\n",
    "print(df3.columns)"
   ]
  },
  {
   "cell_type": "code",
   "execution_count": 35,
   "id": "c5c71753-2078-4d0e-b385-7f849a60002a",
   "metadata": {},
   "outputs": [
    {
     "ename": "NameError",
     "evalue": "name 'df3' is not defined",
     "output_type": "error",
     "traceback": [
      "\u001b[1;31m---------------------------------------------------------------------------\u001b[0m",
      "\u001b[1;31mNameError\u001b[0m                                 Traceback (most recent call last)",
      "Cell \u001b[1;32mIn[35], line 1\u001b[0m\n\u001b[1;32m----> 1\u001b[0m df3\n",
      "\u001b[1;31mNameError\u001b[0m: name 'df3' is not defined"
     ]
    }
   ],
   "source": [
    "df3\n"
   ]
  },
  {
   "cell_type": "code",
   "execution_count": 37,
   "id": "a20d9ac8-e437-48c1-ae79-58cf67093631",
   "metadata": {},
   "outputs": [],
   "source": [
    "from sklearn.tree import DecisionTreeClassifier\n",
    "clf1 = DecisionTreeClassifier()\n",
    "clf2 = DecisionTreeClassifier()\n",
    "clf3 = DecisionTreeClassifier()"
   ]
  },
  {
   "cell_type": "code",
   "execution_count": 38,
   "id": "91bd8280-bf73-44ba-afb9-3878fb2980ef",
   "metadata": {},
   "outputs": [
    {
     "ename": "NameError",
     "evalue": "name 'df1' is not defined",
     "output_type": "error",
     "traceback": [
      "\u001b[1;31m---------------------------------------------------------------------------\u001b[0m",
      "\u001b[1;31mNameError\u001b[0m                                 Traceback (most recent call last)",
      "Cell \u001b[1;32mIn[38], line 1\u001b[0m\n\u001b[1;32m----> 1\u001b[0m clf1\u001b[38;5;241m.\u001b[39mfit(df1\u001b[38;5;241m.\u001b[39miloc[:,\u001b[38;5;241m0\u001b[39m:\u001b[38;5;241m2\u001b[39m],df1\u001b[38;5;241m.\u001b[39miloc[:,\u001b[38;5;241m-\u001b[39m\u001b[38;5;241m1\u001b[39m])\n\u001b[0;32m      2\u001b[0m clf2\u001b[38;5;241m.\u001b[39mfit(df2\u001b[38;5;241m.\u001b[39miloc[:,\u001b[38;5;241m0\u001b[39m:\u001b[38;5;241m2\u001b[39m],df2\u001b[38;5;241m.\u001b[39miloc[:,\u001b[38;5;241m-\u001b[39m\u001b[38;5;241m1\u001b[39m])\n\u001b[0;32m      3\u001b[0m clf3\u001b[38;5;241m.\u001b[39mfit(df3\u001b[38;5;241m.\u001b[39miloc[:,\u001b[38;5;241m0\u001b[39m:\u001b[38;5;241m2\u001b[39m],df3\u001b[38;5;241m.\u001b[39miloc[:,\u001b[38;5;241m-\u001b[39m\u001b[38;5;241m1\u001b[39m])\n",
      "\u001b[1;31mNameError\u001b[0m: name 'df1' is not defined"
     ]
    }
   ],
   "source": [
    "clf1.fit(df1.iloc[:,0:2],df1.iloc[:,-1])\n",
    "clf2.fit(df2.iloc[:,0:2],df2.iloc[:,-1])\n",
    "clf3.fit(df3.iloc[:,0:2],df3.iloc[:,-1])"
   ]
  },
  {
   "cell_type": "code",
   "execution_count": null,
   "id": "2e9a4c29-a326-4a0d-bc5c-ba12fa63eb21",
   "metadata": {},
   "outputs": [],
   "source": [
    "from sklearn.tree import plot_tree"
   ]
  },
  {
   "cell_type": "code",
   "execution_count": null,
   "id": "b049e125-fda5-4c7e-9582-26ef3b8c7b83",
   "metadata": {},
   "outputs": [],
   "source": [
    "plot_tree(clf1)"
   ]
  },
  {
   "cell_type": "code",
   "execution_count": 42,
   "id": "0c19c59b-d71b-472e-a50c-389e6f7db73d",
   "metadata": {},
   "outputs": [
    {
     "ename": "NameError",
     "evalue": "name 'plot_tree' is not defined",
     "output_type": "error",
     "traceback": [
      "\u001b[1;31m---------------------------------------------------------------------------\u001b[0m",
      "\u001b[1;31mNameError\u001b[0m                                 Traceback (most recent call last)",
      "Cell \u001b[1;32mIn[42], line 1\u001b[0m\n\u001b[1;32m----> 1\u001b[0m plot_tree(clf2)\n",
      "\u001b[1;31mNameError\u001b[0m: name 'plot_tree' is not defined"
     ]
    }
   ],
   "source": [
    "plot_tree(clf2)"
   ]
  },
  {
   "cell_type": "code",
   "execution_count": 43,
   "id": "a1a99072-86fb-4292-848e-3f22e604ebdd",
   "metadata": {},
   "outputs": [
    {
     "ename": "NameError",
     "evalue": "name 'plot_tree' is not defined",
     "output_type": "error",
     "traceback": [
      "\u001b[1;31m---------------------------------------------------------------------------\u001b[0m",
      "\u001b[1;31mNameError\u001b[0m                                 Traceback (most recent call last)",
      "Cell \u001b[1;32mIn[43], line 1\u001b[0m\n\u001b[1;32m----> 1\u001b[0m plot_tree(clf3)\n",
      "\u001b[1;31mNameError\u001b[0m: name 'plot_tree' is not defined"
     ]
    }
   ],
   "source": [
    "plot_tree(clf3)"
   ]
  },
  {
   "cell_type": "code",
   "execution_count": 45,
   "id": "fb94fcbd-8fa8-42a8-819e-258c8d936d0f",
   "metadata": {},
   "outputs": [
    {
     "ename": "NotFittedError",
     "evalue": "This DecisionTreeClassifier instance is not fitted yet. Call 'fit' with appropriate arguments before using this estimator.",
     "output_type": "error",
     "traceback": [
      "\u001b[1;31m---------------------------------------------------------------------------\u001b[0m",
      "\u001b[1;31mNotFittedError\u001b[0m                            Traceback (most recent call last)",
      "Cell \u001b[1;32mIn[45], line 1\u001b[0m\n\u001b[1;32m----> 1\u001b[0m clf1\u001b[38;5;241m.\u001b[39mpredict(np\u001b[38;5;241m.\u001b[39marray([\u001b[38;5;241m-\u001b[39m\u001b[38;5;241m1.042498\u001b[39m,\t\u001b[38;5;241m-\u001b[39m\u001b[38;5;241m0.064323\u001b[39m])\u001b[38;5;241m.\u001b[39mreshape(\u001b[38;5;241m1\u001b[39m,\u001b[38;5;241m2\u001b[39m))\n",
      "File \u001b[1;32mD:\\Anaconda\\Lib\\site-packages\\sklearn\\tree\\_classes.py:425\u001b[0m, in \u001b[0;36mBaseDecisionTree.predict\u001b[1;34m(self, X, check_input)\u001b[0m\n\u001b[0;32m    402\u001b[0m \u001b[38;5;28;01mdef\u001b[39;00m \u001b[38;5;21mpredict\u001b[39m(\u001b[38;5;28mself\u001b[39m, X, check_input\u001b[38;5;241m=\u001b[39m\u001b[38;5;28;01mTrue\u001b[39;00m):\n\u001b[0;32m    403\u001b[0m \u001b[38;5;250m    \u001b[39m\u001b[38;5;124;03m\"\"\"Predict class or regression value for X.\u001b[39;00m\n\u001b[0;32m    404\u001b[0m \n\u001b[0;32m    405\u001b[0m \u001b[38;5;124;03m    For a classification model, the predicted class for each sample in X is\u001b[39;00m\n\u001b[1;32m   (...)\u001b[0m\n\u001b[0;32m    423\u001b[0m \u001b[38;5;124;03m        The predicted classes, or the predict values.\u001b[39;00m\n\u001b[0;32m    424\u001b[0m \u001b[38;5;124;03m    \"\"\"\u001b[39;00m\n\u001b[1;32m--> 425\u001b[0m     check_is_fitted(\u001b[38;5;28mself\u001b[39m)\n\u001b[0;32m    426\u001b[0m     X \u001b[38;5;241m=\u001b[39m \u001b[38;5;28mself\u001b[39m\u001b[38;5;241m.\u001b[39m_validate_X_predict(X, check_input)\n\u001b[0;32m    427\u001b[0m     proba \u001b[38;5;241m=\u001b[39m \u001b[38;5;28mself\u001b[39m\u001b[38;5;241m.\u001b[39mtree_\u001b[38;5;241m.\u001b[39mpredict(X)\n",
      "File \u001b[1;32mD:\\Anaconda\\Lib\\site-packages\\sklearn\\utils\\validation.py:1390\u001b[0m, in \u001b[0;36mcheck_is_fitted\u001b[1;34m(estimator, attributes, msg, all_or_any)\u001b[0m\n\u001b[0;32m   1385\u001b[0m     fitted \u001b[38;5;241m=\u001b[39m [\n\u001b[0;32m   1386\u001b[0m         v \u001b[38;5;28;01mfor\u001b[39;00m v \u001b[38;5;129;01min\u001b[39;00m \u001b[38;5;28mvars\u001b[39m(estimator) \u001b[38;5;28;01mif\u001b[39;00m v\u001b[38;5;241m.\u001b[39mendswith(\u001b[38;5;124m\"\u001b[39m\u001b[38;5;124m_\u001b[39m\u001b[38;5;124m\"\u001b[39m) \u001b[38;5;129;01mand\u001b[39;00m \u001b[38;5;129;01mnot\u001b[39;00m v\u001b[38;5;241m.\u001b[39mstartswith(\u001b[38;5;124m\"\u001b[39m\u001b[38;5;124m__\u001b[39m\u001b[38;5;124m\"\u001b[39m)\n\u001b[0;32m   1387\u001b[0m     ]\n\u001b[0;32m   1389\u001b[0m \u001b[38;5;28;01mif\u001b[39;00m \u001b[38;5;129;01mnot\u001b[39;00m fitted:\n\u001b[1;32m-> 1390\u001b[0m     \u001b[38;5;28;01mraise\u001b[39;00m NotFittedError(msg \u001b[38;5;241m%\u001b[39m {\u001b[38;5;124m\"\u001b[39m\u001b[38;5;124mname\u001b[39m\u001b[38;5;124m\"\u001b[39m: \u001b[38;5;28mtype\u001b[39m(estimator)\u001b[38;5;241m.\u001b[39m\u001b[38;5;18m__name__\u001b[39m})\n",
      "\u001b[1;31mNotFittedError\u001b[0m: This DecisionTreeClassifier instance is not fitted yet. Call 'fit' with appropriate arguments before using this estimator."
     ]
    }
   ],
   "source": [
    "clf1.predict(np.array([-1.042498,\t-0.064323]).reshape(1,2))"
   ]
  },
  {
   "cell_type": "code",
   "execution_count": 47,
   "id": "df9f81a2-d4c3-4eca-8a27-481fa61469c0",
   "metadata": {},
   "outputs": [
    {
     "ename": "NotFittedError",
     "evalue": "This DecisionTreeClassifier instance is not fitted yet. Call 'fit' with appropriate arguments before using this estimator.",
     "output_type": "error",
     "traceback": [
      "\u001b[1;31m---------------------------------------------------------------------------\u001b[0m",
      "\u001b[1;31mNotFittedError\u001b[0m                            Traceback (most recent call last)",
      "Cell \u001b[1;32mIn[47], line 1\u001b[0m\n\u001b[1;32m----> 1\u001b[0m clf2\u001b[38;5;241m.\u001b[39mpredict(np\u001b[38;5;241m.\u001b[39marray([\u001b[38;5;241m-\u001b[39m\u001b[38;5;241m1.042498\u001b[39m,\t\u001b[38;5;241m-\u001b[39m\u001b[38;5;241m0.064323\u001b[39m])\u001b[38;5;241m.\u001b[39mreshape(\u001b[38;5;241m1\u001b[39m,\u001b[38;5;241m2\u001b[39m))\n",
      "File \u001b[1;32mD:\\Anaconda\\Lib\\site-packages\\sklearn\\tree\\_classes.py:425\u001b[0m, in \u001b[0;36mBaseDecisionTree.predict\u001b[1;34m(self, X, check_input)\u001b[0m\n\u001b[0;32m    402\u001b[0m \u001b[38;5;28;01mdef\u001b[39;00m \u001b[38;5;21mpredict\u001b[39m(\u001b[38;5;28mself\u001b[39m, X, check_input\u001b[38;5;241m=\u001b[39m\u001b[38;5;28;01mTrue\u001b[39;00m):\n\u001b[0;32m    403\u001b[0m \u001b[38;5;250m    \u001b[39m\u001b[38;5;124;03m\"\"\"Predict class or regression value for X.\u001b[39;00m\n\u001b[0;32m    404\u001b[0m \n\u001b[0;32m    405\u001b[0m \u001b[38;5;124;03m    For a classification model, the predicted class for each sample in X is\u001b[39;00m\n\u001b[1;32m   (...)\u001b[0m\n\u001b[0;32m    423\u001b[0m \u001b[38;5;124;03m        The predicted classes, or the predict values.\u001b[39;00m\n\u001b[0;32m    424\u001b[0m \u001b[38;5;124;03m    \"\"\"\u001b[39;00m\n\u001b[1;32m--> 425\u001b[0m     check_is_fitted(\u001b[38;5;28mself\u001b[39m)\n\u001b[0;32m    426\u001b[0m     X \u001b[38;5;241m=\u001b[39m \u001b[38;5;28mself\u001b[39m\u001b[38;5;241m.\u001b[39m_validate_X_predict(X, check_input)\n\u001b[0;32m    427\u001b[0m     proba \u001b[38;5;241m=\u001b[39m \u001b[38;5;28mself\u001b[39m\u001b[38;5;241m.\u001b[39mtree_\u001b[38;5;241m.\u001b[39mpredict(X)\n",
      "File \u001b[1;32mD:\\Anaconda\\Lib\\site-packages\\sklearn\\utils\\validation.py:1390\u001b[0m, in \u001b[0;36mcheck_is_fitted\u001b[1;34m(estimator, attributes, msg, all_or_any)\u001b[0m\n\u001b[0;32m   1385\u001b[0m     fitted \u001b[38;5;241m=\u001b[39m [\n\u001b[0;32m   1386\u001b[0m         v \u001b[38;5;28;01mfor\u001b[39;00m v \u001b[38;5;129;01min\u001b[39;00m \u001b[38;5;28mvars\u001b[39m(estimator) \u001b[38;5;28;01mif\u001b[39;00m v\u001b[38;5;241m.\u001b[39mendswith(\u001b[38;5;124m\"\u001b[39m\u001b[38;5;124m_\u001b[39m\u001b[38;5;124m\"\u001b[39m) \u001b[38;5;129;01mand\u001b[39;00m \u001b[38;5;129;01mnot\u001b[39;00m v\u001b[38;5;241m.\u001b[39mstartswith(\u001b[38;5;124m\"\u001b[39m\u001b[38;5;124m__\u001b[39m\u001b[38;5;124m\"\u001b[39m)\n\u001b[0;32m   1387\u001b[0m     ]\n\u001b[0;32m   1389\u001b[0m \u001b[38;5;28;01mif\u001b[39;00m \u001b[38;5;129;01mnot\u001b[39;00m fitted:\n\u001b[1;32m-> 1390\u001b[0m     \u001b[38;5;28;01mraise\u001b[39;00m NotFittedError(msg \u001b[38;5;241m%\u001b[39m {\u001b[38;5;124m\"\u001b[39m\u001b[38;5;124mname\u001b[39m\u001b[38;5;124m\"\u001b[39m: \u001b[38;5;28mtype\u001b[39m(estimator)\u001b[38;5;241m.\u001b[39m\u001b[38;5;18m__name__\u001b[39m})\n",
      "\u001b[1;31mNotFittedError\u001b[0m: This DecisionTreeClassifier instance is not fitted yet. Call 'fit' with appropriate arguments before using this estimator."
     ]
    }
   ],
   "source": [
    "clf2.predict(np.array([-1.042498,\t-0.064323]).reshape(1,2))"
   ]
  },
  {
   "cell_type": "code",
   "execution_count": 49,
   "id": "a1b9b99b-ea0b-4737-a1d8-8ed154237b2e",
   "metadata": {},
   "outputs": [
    {
     "ename": "NotFittedError",
     "evalue": "This DecisionTreeClassifier instance is not fitted yet. Call 'fit' with appropriate arguments before using this estimator.",
     "output_type": "error",
     "traceback": [
      "\u001b[1;31m---------------------------------------------------------------------------\u001b[0m",
      "\u001b[1;31mNotFittedError\u001b[0m                            Traceback (most recent call last)",
      "Cell \u001b[1;32mIn[49], line 1\u001b[0m\n\u001b[1;32m----> 1\u001b[0m clf3\u001b[38;5;241m.\u001b[39mpredict(np\u001b[38;5;241m.\u001b[39marray([\u001b[38;5;241m-\u001b[39m\u001b[38;5;241m1.042498\u001b[39m,\t\u001b[38;5;241m-\u001b[39m\u001b[38;5;241m0.064323\u001b[39m])\u001b[38;5;241m.\u001b[39mreshape(\u001b[38;5;241m1\u001b[39m,\u001b[38;5;241m2\u001b[39m))\n",
      "File \u001b[1;32mD:\\Anaconda\\Lib\\site-packages\\sklearn\\tree\\_classes.py:425\u001b[0m, in \u001b[0;36mBaseDecisionTree.predict\u001b[1;34m(self, X, check_input)\u001b[0m\n\u001b[0;32m    402\u001b[0m \u001b[38;5;28;01mdef\u001b[39;00m \u001b[38;5;21mpredict\u001b[39m(\u001b[38;5;28mself\u001b[39m, X, check_input\u001b[38;5;241m=\u001b[39m\u001b[38;5;28;01mTrue\u001b[39;00m):\n\u001b[0;32m    403\u001b[0m \u001b[38;5;250m    \u001b[39m\u001b[38;5;124;03m\"\"\"Predict class or regression value for X.\u001b[39;00m\n\u001b[0;32m    404\u001b[0m \n\u001b[0;32m    405\u001b[0m \u001b[38;5;124;03m    For a classification model, the predicted class for each sample in X is\u001b[39;00m\n\u001b[1;32m   (...)\u001b[0m\n\u001b[0;32m    423\u001b[0m \u001b[38;5;124;03m        The predicted classes, or the predict values.\u001b[39;00m\n\u001b[0;32m    424\u001b[0m \u001b[38;5;124;03m    \"\"\"\u001b[39;00m\n\u001b[1;32m--> 425\u001b[0m     check_is_fitted(\u001b[38;5;28mself\u001b[39m)\n\u001b[0;32m    426\u001b[0m     X \u001b[38;5;241m=\u001b[39m \u001b[38;5;28mself\u001b[39m\u001b[38;5;241m.\u001b[39m_validate_X_predict(X, check_input)\n\u001b[0;32m    427\u001b[0m     proba \u001b[38;5;241m=\u001b[39m \u001b[38;5;28mself\u001b[39m\u001b[38;5;241m.\u001b[39mtree_\u001b[38;5;241m.\u001b[39mpredict(X)\n",
      "File \u001b[1;32mD:\\Anaconda\\Lib\\site-packages\\sklearn\\utils\\validation.py:1390\u001b[0m, in \u001b[0;36mcheck_is_fitted\u001b[1;34m(estimator, attributes, msg, all_or_any)\u001b[0m\n\u001b[0;32m   1385\u001b[0m     fitted \u001b[38;5;241m=\u001b[39m [\n\u001b[0;32m   1386\u001b[0m         v \u001b[38;5;28;01mfor\u001b[39;00m v \u001b[38;5;129;01min\u001b[39;00m \u001b[38;5;28mvars\u001b[39m(estimator) \u001b[38;5;28;01mif\u001b[39;00m v\u001b[38;5;241m.\u001b[39mendswith(\u001b[38;5;124m\"\u001b[39m\u001b[38;5;124m_\u001b[39m\u001b[38;5;124m\"\u001b[39m) \u001b[38;5;129;01mand\u001b[39;00m \u001b[38;5;129;01mnot\u001b[39;00m v\u001b[38;5;241m.\u001b[39mstartswith(\u001b[38;5;124m\"\u001b[39m\u001b[38;5;124m__\u001b[39m\u001b[38;5;124m\"\u001b[39m)\n\u001b[0;32m   1387\u001b[0m     ]\n\u001b[0;32m   1389\u001b[0m \u001b[38;5;28;01mif\u001b[39;00m \u001b[38;5;129;01mnot\u001b[39;00m fitted:\n\u001b[1;32m-> 1390\u001b[0m     \u001b[38;5;28;01mraise\u001b[39;00m NotFittedError(msg \u001b[38;5;241m%\u001b[39m {\u001b[38;5;124m\"\u001b[39m\u001b[38;5;124mname\u001b[39m\u001b[38;5;124m\"\u001b[39m: \u001b[38;5;28mtype\u001b[39m(estimator)\u001b[38;5;241m.\u001b[39m\u001b[38;5;18m__name__\u001b[39m})\n",
      "\u001b[1;31mNotFittedError\u001b[0m: This DecisionTreeClassifier instance is not fitted yet. Call 'fit' with appropriate arguments before using this estimator."
     ]
    }
   ],
   "source": [
    "clf3.predict(np.array([-1.042498,\t-0.064323]).reshape(1,2))"
   ]
  },
  {
   "cell_type": "code",
   "execution_count": 51,
   "id": "0f892942-bf82-4092-9569-0767c2088599",
   "metadata": {},
   "outputs": [
    {
     "data": {
      "text/html": [
       "<div>\n",
       "<style scoped>\n",
       "    .dataframe tbody tr th:only-of-type {\n",
       "        vertical-align: middle;\n",
       "    }\n",
       "\n",
       "    .dataframe tbody tr th {\n",
       "        vertical-align: top;\n",
       "    }\n",
       "\n",
       "    .dataframe thead th {\n",
       "        text-align: right;\n",
       "    }\n",
       "</style>\n",
       "<table border=\"1\" class=\"dataframe\">\n",
       "  <thead>\n",
       "    <tr style=\"text-align: right;\">\n",
       "      <th></th>\n",
       "      <th>col1</th>\n",
       "      <th>col2</th>\n",
       "      <th>col3</th>\n",
       "      <th>col4</th>\n",
       "      <th>col5</th>\n",
       "      <th>target</th>\n",
       "    </tr>\n",
       "  </thead>\n",
       "  <tbody>\n",
       "    <tr>\n",
       "      <th>45</th>\n",
       "      <td>1.074788</td>\n",
       "      <td>1.971020</td>\n",
       "      <td>-0.021196</td>\n",
       "      <td>0.639064</td>\n",
       "      <td>1.762878</td>\n",
       "      <td>1</td>\n",
       "    </tr>\n",
       "    <tr>\n",
       "      <th>39</th>\n",
       "      <td>-1.948464</td>\n",
       "      <td>0.082479</td>\n",
       "      <td>1.373193</td>\n",
       "      <td>-1.045821</td>\n",
       "      <td>-1.583891</td>\n",
       "      <td>0</td>\n",
       "    </tr>\n",
       "    <tr>\n",
       "      <th>16</th>\n",
       "      <td>0.291268</td>\n",
       "      <td>0.826728</td>\n",
       "      <td>0.512796</td>\n",
       "      <td>-0.209184</td>\n",
       "      <td>0.960156</td>\n",
       "      <td>1</td>\n",
       "    </tr>\n",
       "    <tr>\n",
       "      <th>45</th>\n",
       "      <td>1.074788</td>\n",
       "      <td>1.971020</td>\n",
       "      <td>-0.021196</td>\n",
       "      <td>0.639064</td>\n",
       "      <td>1.762878</td>\n",
       "      <td>1</td>\n",
       "    </tr>\n",
       "    <tr>\n",
       "      <th>8</th>\n",
       "      <td>-1.608996</td>\n",
       "      <td>-0.311928</td>\n",
       "      <td>1.531711</td>\n",
       "      <td>-1.270428</td>\n",
       "      <td>0.645021</td>\n",
       "      <td>0</td>\n",
       "    </tr>\n",
       "    <tr>\n",
       "      <th>5</th>\n",
       "      <td>1.674173</td>\n",
       "      <td>1.633778</td>\n",
       "      <td>1.601227</td>\n",
       "      <td>1.368723</td>\n",
       "      <td>2.473209</td>\n",
       "      <td>1</td>\n",
       "    </tr>\n",
       "    <tr>\n",
       "      <th>59</th>\n",
       "      <td>0.126434</td>\n",
       "      <td>-1.191691</td>\n",
       "      <td>0.161232</td>\n",
       "      <td>-1.080394</td>\n",
       "      <td>-0.920953</td>\n",
       "      <td>1</td>\n",
       "    </tr>\n",
       "    <tr>\n",
       "      <th>46</th>\n",
       "      <td>0.980157</td>\n",
       "      <td>0.447870</td>\n",
       "      <td>1.219878</td>\n",
       "      <td>0.800274</td>\n",
       "      <td>1.193786</td>\n",
       "      <td>1</td>\n",
       "    </tr>\n",
       "    <tr>\n",
       "      <th>32</th>\n",
       "      <td>0.910971</td>\n",
       "      <td>-0.732938</td>\n",
       "      <td>1.824658</td>\n",
       "      <td>0.590982</td>\n",
       "      <td>1.250612</td>\n",
       "      <td>1</td>\n",
       "    </tr>\n",
       "    <tr>\n",
       "      <th>17</th>\n",
       "      <td>1.146158</td>\n",
       "      <td>-0.181367</td>\n",
       "      <td>2.006745</td>\n",
       "      <td>3.044201</td>\n",
       "      <td>-0.991969</td>\n",
       "      <td>1</td>\n",
       "    </tr>\n",
       "    <tr>\n",
       "      <th>76</th>\n",
       "      <td>1.668375</td>\n",
       "      <td>3.529753</td>\n",
       "      <td>-1.491005</td>\n",
       "      <td>1.219638</td>\n",
       "      <td>1.638550</td>\n",
       "      <td>1</td>\n",
       "    </tr>\n",
       "    <tr>\n",
       "      <th>19</th>\n",
       "      <td>-1.375791</td>\n",
       "      <td>1.251098</td>\n",
       "      <td>1.856192</td>\n",
       "      <td>-1.516157</td>\n",
       "      <td>6.308198</td>\n",
       "      <td>0</td>\n",
       "    </tr>\n",
       "    <tr>\n",
       "      <th>78</th>\n",
       "      <td>1.308959</td>\n",
       "      <td>-1.504290</td>\n",
       "      <td>-0.809106</td>\n",
       "      <td>0.872178</td>\n",
       "      <td>-0.798698</td>\n",
       "      <td>0</td>\n",
       "    </tr>\n",
       "    <tr>\n",
       "      <th>87</th>\n",
       "      <td>-3.872334</td>\n",
       "      <td>2.022340</td>\n",
       "      <td>2.456025</td>\n",
       "      <td>-0.804508</td>\n",
       "      <td>0.434740</td>\n",
       "      <td>0</td>\n",
       "    </tr>\n",
       "  </tbody>\n",
       "</table>\n",
       "</div>"
      ],
      "text/plain": [
       "        col1      col2      col3      col4      col5  target\n",
       "45  1.074788  1.971020 -0.021196  0.639064  1.762878       1\n",
       "39 -1.948464  0.082479  1.373193 -1.045821 -1.583891       0\n",
       "16  0.291268  0.826728  0.512796 -0.209184  0.960156       1\n",
       "45  1.074788  1.971020 -0.021196  0.639064  1.762878       1\n",
       "8  -1.608996 -0.311928  1.531711 -1.270428  0.645021       0\n",
       "5   1.674173  1.633778  1.601227  1.368723  2.473209       1\n",
       "59  0.126434 -1.191691  0.161232 -1.080394 -0.920953       1\n",
       "46  0.980157  0.447870  1.219878  0.800274  1.193786       1\n",
       "32  0.910971 -0.732938  1.824658  0.590982  1.250612       1\n",
       "17  1.146158 -0.181367  2.006745  3.044201 -0.991969       1\n",
       "76  1.668375  3.529753 -1.491005  1.219638  1.638550       1\n",
       "19 -1.375791  1.251098  1.856192 -1.516157  6.308198       0\n",
       "78  1.308959 -1.504290 -0.809106  0.872178 -0.798698       0\n",
       "87 -3.872334  2.022340  2.456025 -0.804508  0.434740       0"
      ]
     },
     "execution_count": 51,
     "metadata": {},
     "output_type": "execute_result"
    }
   ],
   "source": [
    "df.sample(14,replace=True)"
   ]
  },
  {
   "cell_type": "code",
   "execution_count": null,
   "id": "bc71ddac-e423-4cee-a590-6258cc23f728",
   "metadata": {},
   "outputs": [],
   "source": []
  }
 ],
 "metadata": {
  "kernelspec": {
   "display_name": "Python 3 (ipykernel)",
   "language": "python",
   "name": "python3"
  },
  "language_info": {
   "codemirror_mode": {
    "name": "ipython",
    "version": 3
   },
   "file_extension": ".py",
   "mimetype": "text/x-python",
   "name": "python",
   "nbconvert_exporter": "python",
   "pygments_lexer": "ipython3",
   "version": "3.11.7"
  }
 },
 "nbformat": 4,
 "nbformat_minor": 5
}
