{
  "nbformat": 4,
  "nbformat_minor": 0,
  "metadata": {
    "colab": {
      "provenance": [],
      "authorship_tag": "ABX9TyP9BI9Ti+Uy0gZkdiCs9XZv",
      "include_colab_link": true
    },
    "kernelspec": {
      "name": "python3",
      "display_name": "Python 3"
    },
    "language_info": {
      "name": "python"
    }
  },
  "cells": [
    {
      "cell_type": "markdown",
      "metadata": {
        "id": "view-in-github",
        "colab_type": "text"
      },
      "source": [
        "<a href=\"https://colab.research.google.com/github/ShreyanshJain105/Saksham-24_Falcons_Internship/blob/main/web_scrapping_project.ipynb\" target=\"_parent\"><img src=\"https://colab.research.google.com/assets/colab-badge.svg\" alt=\"Open In Colab\"/></a>"
      ]
    },
    {
      "cell_type": "code",
      "execution_count": null,
      "metadata": {
        "id": "9Mux33qqFMoF"
      },
      "outputs": [],
      "source": []
    },
    {
      "source": [
        "import requests\n",
        "from bs4 import BeautifulSoup\n",
        "\n",
        "url = \"https://www.rollingstone.com/\"\n",
        "response = requests.get(url)\n",
        "soup = BeautifulSoup(response.content, 'html.parser')\n",
        "\n",
        "\n",
        "titles = []\n",
        "for article in soup.find_all('h3', class_='c-title'):          # Replace 'c-title' with the actual class name\n",
        "    title = article.text.strip()\n",
        "    titles.append(title)\n",
        "\n",
        "\n",
        "\n",
        "\n",
        "for title in titles:\n",
        "    print(title)\n"
      ],
      "cell_type": "code",
      "metadata": {
        "colab": {
          "base_uri": "https://localhost:8080/"
        },
        "id": "O_WxltAnGRkA",
        "outputId": "60fc761d-ae87-4a5e-9d3e-e25051d08267"
      },
      "execution_count": null,
      "outputs": [
        {
          "output_type": "stream",
          "name": "stdout",
          "text": [
            "Rolling Stone Lawsuit Forces Release of Henry Kissinger’s FBI Files\n",
            "Sherri Papini Faked Her Own Kidnapping. Her Ex Husband Is Finally Talking\n",
            "Trump’s Not ‘Bluffing’: Inside the MAGA Efforts To Make a Second Term Even More Extreme\n",
            "'The Bikeriders' Is Hell — and a Community of Throwback Male Misfits — on Wheels\n",
            "Yes, Republicans Really Are Coming for IVF\n",
            "Taylor Swift Live in London: The Eras Tour Sets a New Bar for Stadium Shows\n",
            "Bob Dylan Stuns Fans With New Set, Surprise Covers on Outlaw Festival Launch\n",
            "How ‘It Takes Two’ Defined Hip-Hop’s Golden Age\n",
            "The Making of Billie Eilish’s ‘Hit Me Hard and Soft’\n",
            "Best New Music from Normani, Khalid, This Is Lorelei, and More\n",
            "The 70 Greatest Beyoncé Songs\n",
            "Donald Trump Proposes Migrant ‘Fight League’ During Bonkers Rally Speech\n",
            "Taylor Swift Performs ‘Castles Crumbling’ With Hayley Williams at London Show\n",
            "Iranian Rapper Toomaj Salehi Has Death Sentence Overturned, Will Face Retrial\n",
            "See the Decemberists Showcase New Album Tracks for 'Saturday Sessions'\n",
            "Justin Timberlake Addresses His 'Tough Week' at First Concert After DWI Arrest\n",
            "Willie Nelson Misses Launch of Outlaw Music Festival Due to Illness\n",
            "Kamala Harris: ‘What Kind of Country Do We Want to Live In?’\n",
            "Inside Snapchat’s Teen Opioid Crisis\n",
            "Inside the Rise and Fall of Project Veritas\n",
            "Shakira Went Through Hell. Now She’s Living Her Best Life\n",
            "The 500 Greatest Songs of All Time\n",
            "The Rolling Stone Travel + Wellness Awards 2024\n",
            "How to Watch the 2024 UEFA Euro Championship In the U.S.\n",
            "Rolling Stone Summer Essentials 2024: The 30+ Best Travel, Beach, and Party Gear for the Season\n",
            "Pride Month Is Here, But You Can Support These 45+ LGBTQ-Owned Businesses Year-Round\n",
            "The Best Headphones for 2024\n",
            "Martha-Ann Alito Condemns Pride Flags, the Left, and the Media\n",
            "How Kid Rock Went From America’s Favorite Hard-Partying Rock Star to a MAGA Mouthpiece\n",
            "The Mad Scientist and the Killer Whales\n",
            "Bad Boy for Life: Sean Combs’ History of Violence\n",
            "‘Georgia Is Our Laboratory’: Inside Trump’s Plan to Rig 2024\n",
            "Willie Nelson Misses Launch of Outlaw Music Festival Due to Illness\n",
            "Taylor Swift Performs ‘The Black Dog’ Live for First Time at London Show\n",
            "Monica Reflects on 'Closing the Gaps' With Brandy After 'The Boy Is Mine' Remix\n",
            "The Making of Billie Eilish's 'Hit Me Hard and Soft'\n",
            "Marina 'Cried Listening' to Charli XCX, Lorde Heal on 'Girl, So Confusing'\n",
            "Alex Trebek Will Be Honored With 'Jeopardy!' Postal Stamps\n",
            "The Industrialization of Subculture: How Brands Can Protect the Vogue Ballroom Community\n",
            "How To Build Trust To Create a Healthy Team Culture\n",
            "10 Ways to Ensure Your Company Can Adapt to Evolving Trends\n",
            "The Digital Pulpit: Why Authors Need an Email List to Thrive\n",
            "How Leaders Can Support Protecting Copyright and Enabling AI Usage\n",
            "Donald Sutherland, Star of 'MASH,' 'Klute' and 'Hunger Games,' Dies at 88\n",
            "'Resident Alien' Renewed for Season 4 and Changing Networks\n",
            "Kylie Kelce’s Heartwarming Photo of Her 3 Daughters Has Fans Calling One Girl a ‘Travis Twin’\n",
            "Ella Mai, Jayson Tatum Pregnancy Rumors Fly After NBA Finals\n",
            "Goncourt Prizewinning Novel ‘Watching Over Her’ Set for Screen Adaptation by Former Pathe Executives (EXCLUSIVE)\n",
            "Meet Yawn, a Psychedelic Accessory Brand Providing Education and Better Trips\n",
            "The Best Yoga Mats for Any Practice, According to Instructors\n",
            "Conan O’Brien Reflects on ‘Hot Ones’ Appearance: ‘Many of My Friends Went Online and Thought I Died’\n",
            "Follow Us\n",
            "Newsletter Signup\n",
            "Got a Hot News Tip?\n"
          ]
        }
      ]
    },
    {
      "cell_type": "markdown",
      "source": [],
      "metadata": {
        "id": "sHSBz0DJGViN"
      }
    }
  ]
}